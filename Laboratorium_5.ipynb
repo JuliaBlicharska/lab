{
  "nbformat": 4,
  "nbformat_minor": 0,
  "metadata": {
    "colab": {
      "name": "Laboratorium 5.ipynb",
      "provenance": [],
      "private_outputs": true,
      "collapsed_sections": [
        "5Irmpkbv_aLN"
      ]
    },
    "kernelspec": {
      "name": "python3",
      "display_name": "Python 3"
    },
    "accelerator": "TPU"
  },
  "cells": [
    {
      "cell_type": "code",
      "metadata": {
        "id": "dXqvwQDj6L5Y",
        "colab_type": "code",
        "colab": {}
      },
      "source": [
        "!pip install -U tensorflow"
      ],
      "execution_count": 0,
      "outputs": []
    },
    {
      "cell_type": "code",
      "metadata": {
        "id": "qck_TJcj6yTT",
        "colab_type": "code",
        "colab": {}
      },
      "source": [
        "import tensorflow as tf\n",
        "import numpy as np"
      ],
      "execution_count": 0,
      "outputs": []
    },
    {
      "cell_type": "markdown",
      "metadata": {
        "id": "qmWHhWhN7IFL",
        "colab_type": "text"
      },
      "source": [
        "Będziemy korzystać z biblioteki do robienia wykresów (rysowania obrazków):"
      ]
    },
    {
      "cell_type": "code",
      "metadata": {
        "id": "ihddbQUd7DYe",
        "colab_type": "code",
        "colab": {}
      },
      "source": [
        "import matplotlib.pyplot as plt"
      ],
      "execution_count": 0,
      "outputs": []
    },
    {
      "cell_type": "markdown",
      "metadata": {
        "id": "0wRX4fVQ7OZh",
        "colab_type": "text"
      },
      "source": [
        "Oraz skorzystamy z wysokopoziomowej biblioteki [Keras](https://www.tensorflow.org/guide/keras/overview) pomagającej tworzyc sieci neuronowe."
      ]
    },
    {
      "cell_type": "code",
      "metadata": {
        "id": "uAZXYv7S7hBR",
        "colab_type": "code",
        "colab": {}
      },
      "source": [
        "from tensorflow import keras"
      ],
      "execution_count": 0,
      "outputs": []
    },
    {
      "cell_type": "markdown",
      "metadata": {
        "id": "Ik-glpHY7npf",
        "colab_type": "text"
      },
      "source": [
        "Wykonamy jedno z klasycznych zadań klasyfikacyjnych: rozpoznawanie ręcznie pisanych cyfr."
      ]
    },
    {
      "cell_type": "code",
      "metadata": {
        "id": "6qBPkqIp72s6",
        "colab_type": "code",
        "colab": {}
      },
      "source": [
        "mnist = keras.datasets.mnist\n",
        "(train_images, train_labels), (test_images, test_labels) = mnist.load_data()\n"
      ],
      "execution_count": 0,
      "outputs": []
    },
    {
      "cell_type": "markdown",
      "metadata": {
        "id": "6VOkpc4x78Wj",
        "colab_type": "text"
      },
      "source": [
        "Zacznijmy od przyjrzenia się jakies postaci są dane:"
      ]
    },
    {
      "cell_type": "code",
      "metadata": {
        "id": "GtN_CZNr8NT0",
        "colab_type": "code",
        "colab": {}
      },
      "source": [
        "type(train_images)"
      ],
      "execution_count": 0,
      "outputs": []
    },
    {
      "cell_type": "markdown",
      "metadata": {
        "id": "Z6tXvkuB8UeR",
        "colab_type": "text"
      },
      "source": [
        "#### Zadanie\n",
        "\n",
        "- ile jest obrazków\n",
        "- jaki jest rozmiar pojedynczego obrazku\n",
        "- ile wartości ma \"kolor\" pojedynczego pixela?\n",
        "\n",
        "w zbiorze treningowym i zbiorze testowym (osobno)."
      ]
    },
    {
      "cell_type": "markdown",
      "metadata": {
        "id": "BAwUS5Im-MC9",
        "colab_type": "text"
      },
      "source": [
        "### Przykładowe liczby\n",
        "\n",
        "Poniższy kod wyświetla pierwszych 25 przykładów cyfr:"
      ]
    },
    {
      "cell_type": "code",
      "metadata": {
        "id": "K23BLDFL8Rhr",
        "colab_type": "code",
        "colab": {}
      },
      "source": [
        "plt.figure(figsize=(10,10))\n",
        "for i in range(25):\n",
        "    plt.subplot(5,5,i+1)\n",
        "    plt.imshow(train_images[i])\n",
        "    plt.xticks([])\n",
        "    plt.yticks([])\n",
        "    plt.grid(False)\n",
        "    plt.imshow(train_images[i], cmap=plt.cm.binary)\n",
        "    plt.xlabel(train_labels[i])\n",
        "plt.show()"
      ],
      "execution_count": 0,
      "outputs": []
    },
    {
      "cell_type": "markdown",
      "metadata": {
        "id": "ikxsfca88TTA",
        "colab_type": "text"
      },
      "source": [
        "## Przygotowanie danych\n",
        "\n",
        "Dane trzeba w pierwszej kolejności *znormalizować*:"
      ]
    },
    {
      "cell_type": "code",
      "metadata": {
        "id": "kmp8InGu-f9K",
        "colab_type": "code",
        "colab": {}
      },
      "source": [
        "train_images = train_images / 255\n",
        "test_images = test_images / 255"
      ],
      "execution_count": 0,
      "outputs": []
    },
    {
      "cell_type": "markdown",
      "metadata": {
        "id": "sEZbfDgR-mhc",
        "colab_type": "text"
      },
      "source": [
        "Ważnym jest by tej samej transformacji poddać zarówno dane treningowe jak i testowe."
      ]
    },
    {
      "cell_type": "markdown",
      "metadata": {
        "id": "yNw0magl-0Nj",
        "colab_type": "text"
      },
      "source": [
        "## Model\n",
        "\n",
        "Zdefinijumy prosty model z jedną wartwą ukrytą:"
      ]
    },
    {
      "cell_type": "code",
      "metadata": {
        "id": "IFewSfXV-4tY",
        "colab_type": "code",
        "colab": {}
      },
      "source": [
        "model = keras.Sequential([\n",
        "    keras.layers.Flatten(input_shape=(28, 28)),\n",
        "    keras.layers.Dense(128, activation='relu'),\n",
        "    keras.layers.Dense(10, activation='softmax')\n",
        "])"
      ],
      "execution_count": 0,
      "outputs": []
    },
    {
      "cell_type": "code",
      "metadata": {
        "id": "Mbl2SIy7XA7u",
        "colab_type": "code",
        "colab": {}
      },
      "source": [
        "model.summary()"
      ],
      "execution_count": 0,
      "outputs": []
    },
    {
      "cell_type": "markdown",
      "metadata": {
        "id": "q-dqc5ppXAUv",
        "colab_type": "text"
      },
      "source": [
        "Model przed trenowaniem musi zostać \"skompilowany\":\n",
        "\n",
        "- wybieramy metodę optymalizacji (zmniejszania funkcji kosztu)\n",
        "- funkcję kosztu\n",
        "- metrykę (metryki), które pomogą śledzić proces uczenia"
      ]
    },
    {
      "cell_type": "code",
      "metadata": {
        "id": "Pelb6BBo-5Lp",
        "colab_type": "code",
        "colab": {}
      },
      "source": [
        "model.compile(optimizer='adam',\n",
        "              loss='sparse_categorical_crossentropy',\n",
        "              metrics=['accuracy'])"
      ],
      "execution_count": 0,
      "outputs": []
    },
    {
      "cell_type": "code",
      "metadata": {
        "id": "TiFd634b-8Qx",
        "colab_type": "code",
        "colab": {}
      },
      "source": [
        "model.fit(train_images, train_labels, epochs=10)"
      ],
      "execution_count": 0,
      "outputs": []
    },
    {
      "cell_type": "code",
      "metadata": {
        "id": "no1RVFok--MX",
        "colab_type": "code",
        "colab": {}
      },
      "source": [
        "test_loss, test_acc = model.evaluate(test_images,  test_labels, verbose=2)\n",
        "\n",
        "print('\\nTest accuracy:', test_acc)"
      ],
      "execution_count": 0,
      "outputs": []
    },
    {
      "cell_type": "code",
      "metadata": {
        "id": "gxZ6ANzg_VCO",
        "colab_type": "code",
        "colab": {}
      },
      "source": [
        "predictions = model.predict(test_images)"
      ],
      "execution_count": 0,
      "outputs": []
    },
    {
      "cell_type": "code",
      "metadata": {
        "id": "Jv9v8bZc_YaS",
        "colab_type": "code",
        "colab": {}
      },
      "source": [
        "predictions[0]"
      ],
      "execution_count": 0,
      "outputs": []
    },
    {
      "cell_type": "markdown",
      "metadata": {
        "id": "5Irmpkbv_aLN",
        "colab_type": "text"
      },
      "source": [
        "#### Zadanie\n",
        "\n",
        "Napisz funkcję, która dla danego modelu i zbioru testowego, wyświetli 25\n",
        "losowych przykładów testowych, z rzeczywistą etykietką i predykcją modelu."
      ]
    },
    {
      "cell_type": "markdown",
      "metadata": {
        "id": "Acv2YYza_0Vu",
        "colab_type": "text"
      },
      "source": [
        "#### Zadanie\n",
        "\n",
        "Sprawdź co się stanie gdy nie przeprowadzi się normalizacji modelu."
      ]
    },
    {
      "cell_type": "markdown",
      "metadata": {
        "id": "IVMM0toCAhYv",
        "colab_type": "text"
      },
      "source": [
        "#### Zadanie\n",
        "\n",
        "Sprawdź jak zmieni się model przy większym rozmiarze warstwy ukrytej.\n",
        "Co jeśli zastąpi się ją dwiema wartstwami ukrytymi?\n",
        "\n",
        "Spróbuj uzyskać większą skuteczność."
      ]
    },
    {
      "cell_type": "markdown",
      "metadata": {
        "id": "-8bcqxNuWRyi",
        "colab_type": "text"
      },
      "source": [
        "# Inna architektura\n",
        "\n",
        "Poniższa architektura ma skuteczność 99%! Jej trenowanie trwa jednak znacznie dłużej."
      ]
    },
    {
      "cell_type": "code",
      "metadata": {
        "id": "CmE84yYgKHHd",
        "colab_type": "code",
        "colab": {}
      },
      "source": [
        "(train_images, train_labels), (test_images, test_labels) = mnist.load_data()\n",
        "\n",
        "train_images = train_images.reshape(60000, 28, 28, 1)\n",
        "test_images = test_images.reshape(10000, 28, 28, 1)"
      ],
      "execution_count": 0,
      "outputs": []
    },
    {
      "cell_type": "code",
      "metadata": {
        "id": "QiwH3WJwDC29",
        "colab_type": "code",
        "colab": {}
      },
      "source": [
        "model_cnn = keras.Sequential([\n",
        "    keras.layers.Conv2D(32, 3, activation=\"relu\", input_shape=(28, 28, 1)),\n",
        "    keras.layers.Conv2D(64, 3, activation=\"relu\"),\n",
        "    keras.layers.MaxPooling2D((2, 2)),\n",
        "    keras.layers.Dropout(0.25),\n",
        "    keras.layers.Flatten(),\n",
        "    keras.layers.Dense(128, activation=\"relu\"),\n",
        "    keras.layers.Dropout(0.4),\n",
        "    keras.layers.Dense(10, activation='softmax')\n",
        "])\n",
        "model_cnn.compile(optimizer='adam',\n",
        "              loss='sparse_categorical_crossentropy',\n",
        "              metrics=['accuracy'])\n",
        "model_cnn.summary()"
      ],
      "execution_count": 0,
      "outputs": []
    },
    {
      "cell_type": "code",
      "metadata": {
        "id": "OOsmYCQFI87W",
        "colab_type": "code",
        "colab": {}
      },
      "source": [
        "model_cnn.fit(train_images, train_labels, validation_split=0.1, epochs=10)"
      ],
      "execution_count": 0,
      "outputs": []
    },
    {
      "cell_type": "code",
      "metadata": {
        "id": "eo05Dx0MDnuV",
        "colab_type": "code",
        "colab": {}
      },
      "source": [
        "test_loss, test_acc = model_cnn.evaluate(test_images,  test_labels, verbose=2)\n",
        "\n",
        "print('\\nTest accuracy:', test_acc)"
      ],
      "execution_count": 0,
      "outputs": []
    },
    {
      "cell_type": "code",
      "metadata": {
        "id": "UdjUK9knD40z",
        "colab_type": "code",
        "colab": {}
      },
      "source": [
        ""
      ],
      "execution_count": 0,
      "outputs": []
    }
  ]
}