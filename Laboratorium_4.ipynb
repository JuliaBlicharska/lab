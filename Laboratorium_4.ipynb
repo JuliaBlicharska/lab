{
  "nbformat": 4,
  "nbformat_minor": 0,
  "metadata": {
    "kernelspec": {
      "display_name": "Python (3.7.2)",
      "language": "python",
      "name": "python3.7.2"
    },
    "language_info": {
      "codemirror_mode": {
        "name": "ipython",
        "version": 3
      },
      "file_extension": ".py",
      "mimetype": "text/x-python",
      "name": "python",
      "nbconvert_exporter": "python",
      "pygments_lexer": "ipython3",
      "version": "3.7.4"
    },
    "colab": {
      "name": "Laboratorium_4.ipynb",
      "provenance": [],
      "private_outputs": true,
      "collapsed_sections": []
    }
  },
  "cells": [
    {
      "cell_type": "markdown",
      "metadata": {
        "id": "TKqzWfLVdRRa",
        "colab_type": "text"
      },
      "source": [
        "# Graf obliczeniowy TF\n",
        "\n",
        "**Zadanie 1**\n",
        "Napisać funkcję `compute_length` do obliczenia długości łamanej korzystając z biblioteki tensorfow. \n",
        "Porównać czas wykonania do implementacji bez TF."
      ]
    },
    {
      "cell_type": "code",
      "metadata": {
        "id": "lq9hr0D-BAu1",
        "colab_type": "code",
        "colab": {}
      },
      "source": [
        "!pip install -U numpy tensorflow"
      ],
      "execution_count": 0,
      "outputs": []
    },
    {
      "cell_type": "code",
      "metadata": {
        "id": "DDBBCEVzkHu1",
        "colab_type": "code",
        "colab": {}
      },
      "source": [
        "%load_ext tensorboard\n",
        "\n",
        "from datetime import datetime\n",
        "import tensorflow as tf\n",
        "import numpy as np\n",
        "print(tf.__version__)\n",
        "\n",
        "\n",
        "# Set up logging.\n",
        "stamp = datetime.now().strftime(\"%Y%m%d-%H%M%S\")\n",
        "logdir = 'logs/func/%s' % stamp\n",
        "writer = tf.summary.create_file_writer(logdir)\n"
      ],
      "execution_count": 0,
      "outputs": []
    },
    {
      "cell_type": "code",
      "metadata": {
        "id": "rhyuY_D3hF4C",
        "colab_type": "code",
        "colab": {}
      },
      "source": [
        "tf.summary.trace_on(graph=True, profiler=True)"
      ],
      "execution_count": 0,
      "outputs": []
    },
    {
      "cell_type": "code",
      "metadata": {
        "id": "xIuQx5xEdkdB",
        "colab_type": "code",
        "colab": {}
      },
      "source": [
        "from math import sqrt, pow\n",
        "import numpy as np\n",
        "\n",
        "\n",
        "@tf.function                   # <- allows tf to make tf graphs and execute faster; https://www.tensorflow.org/tutorials/customization/performance\n",
        "def compute_length(p):\n",
        "  pass\n",
        "\n",
        "p = tf.random.uniform([10000, 2])\n",
        "\n",
        "tf.summary.trace_on(graph=True, profiler=True)\n",
        "\n",
        "%timeit compute_length(p)\n",
        "\n",
        "# export trace\n",
        "with writer.as_default():\n",
        "  tf.summary.trace_export(\n",
        "      name=\"my_func_trace\",\n",
        "      step=0,\n",
        "      profiler_outdir=logdir)"
      ],
      "execution_count": 0,
      "outputs": []
    },
    {
      "cell_type": "code",
      "metadata": {
        "id": "Lik__TCqkNnZ",
        "colab_type": "code",
        "colab": {}
      },
      "source": [
        "%tensorboard --logdir logs/func\n"
      ],
      "execution_count": 0,
      "outputs": []
    },
    {
      "cell_type": "code",
      "metadata": {
        "id": "FgfDStPTdMdr",
        "colab_type": "code",
        "colab": {}
      },
      "source": [
        "from math import sqrt\n",
        "\n",
        "def pythonic_length(ps):\n",
        "  s = 0\n",
        "  for a, b in zip(ps[1:], p[:-1]):\n",
        "    dx = b[0] - a[0]\n",
        "    dy = b[1] - a[1]\n",
        "    ds = sqrt(dx*dx + dy*dy)\n",
        "    s += ds\n",
        "  return s"
      ],
      "execution_count": 0,
      "outputs": []
    },
    {
      "cell_type": "markdown",
      "metadata": {
        "id": "XTWYt6kjgnyr",
        "colab_type": "text"
      },
      "source": [
        "Konwersja tensora do listy-list:"
      ]
    },
    {
      "cell_type": "code",
      "metadata": {
        "id": "6ZydH6edek1C",
        "colab_type": "code",
        "colab": {}
      },
      "source": [
        "pl = p.numpy().tolist()"
      ],
      "execution_count": 0,
      "outputs": []
    },
    {
      "cell_type": "code",
      "metadata": {
        "id": "MzUAO1NufGBo",
        "colab_type": "code",
        "colab": {}
      },
      "source": [
        "%timeit pythonic_length(pl)"
      ],
      "execution_count": 0,
      "outputs": []
    },
    {
      "cell_type": "code",
      "metadata": {
        "id": "H3plzlEQfI0j",
        "colab_type": "code",
        "colab": {}
      },
      "source": [
        "%timeit compute_length(p)"
      ],
      "execution_count": 0,
      "outputs": []
    },
    {
      "cell_type": "markdown",
      "metadata": {
        "id": "67PBJOQQgSgD",
        "colab_type": "text"
      },
      "source": [
        "# Gradient\n",
        "\n",
        "`GradientTape` służy do \"rejestrowania\" obliczeń dla których chcemy policzyć gradient."
      ]
    },
    {
      "cell_type": "code",
      "metadata": {
        "id": "dK25OYxphaNv",
        "colab_type": "code",
        "colab": {}
      },
      "source": [
        "x = tf.ones((2, 2))\n",
        "\n",
        "with tf.GradientTape() as t:\n",
        "  t.watch(x)\n",
        "  y = tf.reduce_sum(x)\n",
        "  z = tf.multiply(y, y)\n",
        "\n",
        "# Derivative of z with respect to the original input tensor x\n",
        "dz_dx = t.gradient(z, x)\n",
        "dz_dx"
      ],
      "execution_count": 0,
      "outputs": []
    },
    {
      "cell_type": "markdown",
      "metadata": {
        "id": "u6ui6tdghjy0",
        "colab_type": "text"
      },
      "source": [
        "**Zadanie:** obliczyć pochodną funkcji $e^x, \\sin(x), \\cos(x)$ w puntach $0, \\pi/2, \\pi$."
      ]
    },
    {
      "cell_type": "markdown",
      "metadata": {
        "id": "7ifR3tyGjUsP",
        "colab_type": "text"
      },
      "source": [
        "**Zadanie:** obliczyć gradient funkcji $V(r(x, y)) = \\frac{1}{r}$, \n",
        "gdzie $r$ jest odległością punktu $(x, y)$ od środka układu współrzędnych."
      ]
    },
    {
      "cell_type": "markdown",
      "metadata": {
        "id": "pgRkMTCckRWl",
        "colab_type": "text"
      },
      "source": [
        "**Zadanie:** oblicz drugą pochodną funkcji $2x^2 + 3x - 1$ w punktach $0, 1$."
      ]
    },
    {
      "cell_type": "markdown",
      "metadata": {
        "id": "RUEawr8aXP0G",
        "colab_type": "text"
      },
      "source": [
        "# Regresja liniowa\n",
        "\n",
        "Na podstawie $m$ cech chcemy przewidzieć ciągłą zmienną $y$.\n",
        "\n",
        "Przykład: cena mieszkań na postawie ich metrażu, odległości od centrum miasta i daty budowy.\n",
        "\n",
        "Mamy dane $N$ obserwacji $k$ cech:\n",
        "${\\mathbf X}$\n",
        "i wektor wyników ${\\mathbf y}$.\n",
        "\n",
        "Dopasowujemy funkcję liniową postaci:\n",
        "\n",
        "f(${\\mathbf X}) = \\mathbf {A X}^{T} +{\\mathbf b}$\n",
        "\n",
        "czyli znajdujemy $\\mathbf{A}$ i $\\mathbf {b}$ takie, które minimalizują \n",
        "funkcję kosztu.\n"
      ]
    },
    {
      "cell_type": "markdown",
      "metadata": {
        "id": "GgqUBg9co-HE",
        "colab_type": "text"
      },
      "source": [
        "Generowanie przykładowych danych:\n",
        "\n",
        "- dla k = 1 aby zweryfikować na wykresie czy \"wygląda ok\"\n",
        "- dla k = 5 docelowo\n",
        "- N: liczba punktów; poeksperymentować z różnymi wartościami"
      ]
    },
    {
      "cell_type": "code",
      "metadata": {
        "id": "-mLS1L3jnKEC",
        "colab_type": "code",
        "colab": {}
      },
      "source": [
        "N = 30\n",
        "k = 1\n",
        "A_real = tf.random.uniform([k, k])\n",
        "b_real = tf.random.uniform([1])\n",
        "X = tf.random.uniform([N, k], minval=0, maxval=10)\n",
        "\n",
        "y_real = A_real @ tf.transpose(X) + b_real + tf.random.normal([N])"
      ],
      "execution_count": 0,
      "outputs": []
    },
    {
      "cell_type": "code",
      "metadata": {
        "id": "OmErPqL5oDVM",
        "colab_type": "code",
        "colab": {}
      },
      "source": [
        "import matplotlib as mpl\n",
        "import matplotlib.pyplot as plt"
      ],
      "execution_count": 0,
      "outputs": []
    },
    {
      "cell_type": "code",
      "metadata": {
        "id": "07btFWuwoKlI",
        "colab_type": "code",
        "colab": {}
      },
      "source": [
        "plt.scatter(X.numpy(), y_real.numpy())\n",
        "plt.title(\"A_real: {}, b_real: {}\".format(A_real, b_real))"
      ],
      "execution_count": 0,
      "outputs": []
    },
    {
      "cell_type": "markdown",
      "metadata": {
        "id": "lEMm5ALonIt7",
        "colab_type": "text"
      },
      "source": [
        "\n",
        "\n",
        "**Zadanie 3**\n",
        "Zaimplementować model regresji liniowej z losowymi współczynnikami początkowymi.\n"
      ]
    },
    {
      "cell_type": "markdown",
      "metadata": {
        "id": "BoStN8um8RVa",
        "colab_type": "text"
      },
      "source": [
        "\n",
        "## Funkcja kosztu\n",
        "\n",
        "Odległość średniokwadratowa.\n",
        "\n",
        "**Zadanie 4** Zaimplementować funkcję kosztu"
      ]
    },
    {
      "cell_type": "markdown",
      "metadata": {
        "id": "bDLRH9GO8QBI",
        "colab_type": "text"
      },
      "source": [
        "\n",
        "\n",
        "## Minimalizacja funkcji kosztu\n",
        "\n",
        "\n",
        "**Zadanie 5**\n",
        "\n",
        "Wyznaczyć najlepsze parametry $\\bf A$ i $\\bf b$.\n",
        "\n",
        "\n",
        "Pomocna funkcja z tensorflow: gradienttape\n",
        "\n",
        "\n",
        "opcjonalnie: exploracja \"najlepsze\""
      ]
    },
    {
      "cell_type": "code",
      "metadata": {
        "id": "cKhj8aTMXP0Y",
        "colab_type": "code",
        "colab": {}
      },
      "source": [
        ""
      ],
      "execution_count": 0,
      "outputs": []
    }
  ]
}